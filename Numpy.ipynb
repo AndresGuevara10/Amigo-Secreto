{
  "nbformat": 4,
  "nbformat_minor": 0,
  "metadata": {
    "colab": {
      "provenance": [],
      "include_colab_link": true
    },
    "kernelspec": {
      "name": "python3",
      "display_name": "Python 3"
    },
    "language_info": {
      "name": "python"
    }
  },
  "cells": [
    {
      "cell_type": "markdown",
      "metadata": {
        "id": "view-in-github",
        "colab_type": "text"
      },
      "source": [
        "<a href=\"https://colab.research.google.com/github/AndresGuevara10/Amigo-Secreto/blob/main/Numpy.ipynb\" target=\"_parent\"><img src=\"https://colab.research.google.com/assets/colab-badge.svg\" alt=\"Open In Colab\"/></a>"
      ]
    },
    {
      "cell_type": "markdown",
      "source": [
        "# **Numpy: Análisis numérico eficiente con Python**"
      ],
      "metadata": {
        "id": "gIKzRrVXl_U4"
      }
    },
    {
      "cell_type": "code",
      "source": [
        "from google.colab import drive\n",
        "drive.mount('/content/drive')"
      ],
      "metadata": {
        "id": "_OoLGJMb7B2K",
        "outputId": "d16885d3-454a-4f30-f6dd-df59694997b6",
        "colab": {
          "base_uri": "https://localhost:8080/"
        }
      },
      "execution_count": 1,
      "outputs": [
        {
          "output_type": "stream",
          "name": "stdout",
          "text": [
            "Mounted at /content/drive\n"
          ]
        }
      ]
    },
    {
      "cell_type": "markdown",
      "source": [
        "NumPy es una biblioteca de Python que ofrece diversas herramientas y funcionalidades esenciales para la computación científica, incluyendo objetos de matriz multidimensional conocidos como *arrays*, rutinas para operaciones rápidas en matrizes, además de operaciones matemáticas, manipulación de formas, estadística entre otros. Es ampliamente utilizada en áreas como análisis de datos, procesamiento de señales y aprendizaje de máquina.\n",
        "\n",
        "Para acceder a la documentación de esta biblioteca, puedes hacer clic en el siguiente enlace: https://numpy.org/devdocs/index.html"
      ],
      "metadata": {
        "id": "ELbiOcHFmRA7"
      }
    },
    {
      "cell_type": "markdown",
      "source": [
        "## Importando las bibliotecas y conectando con Drive"
      ],
      "metadata": {
        "id": "759Xm9xmnPlC"
      }
    },
    {
      "cell_type": "code",
      "execution_count": 2,
      "metadata": {
        "colab": {
          "base_uri": "https://localhost:8080/"
        },
        "id": "TwCAAyXm5YpR",
        "outputId": "4707cdbf-4a04-4c3a-c630-ea530c563e64"
      },
      "outputs": [
        {
          "output_type": "stream",
          "name": "stdout",
          "text": [
            "Drive already mounted at /content/drive; to attempt to forcibly remount, call drive.mount(\"/content/drive\", force_remount=True).\n"
          ]
        }
      ],
      "source": [
        "import numpy as np\n",
        "from google.colab import drive\n",
        "\n",
        "drive.mount('/content/drive')"
      ]
    },
    {
      "cell_type": "code",
      "source": [
        "####### Método 1 para cargar nuestro dataset desde Github Gists ########\n",
        "\n",
        "# url = 'https://gist.githubusercontent.com/ahcamachod/41b8a65c5e5b58125401deafb68af460/raw/f84320f69efa1cc3e86e1db054422cfa4869c63e/manzanas.csv'\n",
        "# np.loadtxt(url,delimiter=',')"
      ],
      "metadata": {
        "id": "ky8TYJDU5wPM"
      },
      "execution_count": 3,
      "outputs": []
    },
    {
      "cell_type": "code",
      "source": [
        "# 12 * 7 + 3 = 87\n",
        "np.arange(1,88,1)"
      ],
      "metadata": {
        "colab": {
          "base_uri": "https://localhost:8080/"
        },
        "id": "O6vmOuVu6Fyn",
        "outputId": "6d9de72a-bd56-4dab-ae19-7e19923caea7"
      },
      "execution_count": 4,
      "outputs": [
        {
          "output_type": "execute_result",
          "data": {
            "text/plain": [
              "array([ 1,  2,  3,  4,  5,  6,  7,  8,  9, 10, 11, 12, 13, 14, 15, 16, 17,\n",
              "       18, 19, 20, 21, 22, 23, 24, 25, 26, 27, 28, 29, 30, 31, 32, 33, 34,\n",
              "       35, 36, 37, 38, 39, 40, 41, 42, 43, 44, 45, 46, 47, 48, 49, 50, 51,\n",
              "       52, 53, 54, 55, 56, 57, 58, 59, 60, 61, 62, 63, 64, 65, 66, 67, 68,\n",
              "       69, 70, 71, 72, 73, 74, 75, 76, 77, 78, 79, 80, 81, 82, 83, 84, 85,\n",
              "       86, 87])"
            ]
          },
          "metadata": {},
          "execution_count": 4
        }
      ]
    },
    {
      "cell_type": "code",
      "source": [
        "# np.loadtxt(url,delimiter=',',usecols = np.arange(1,88,1))"
      ],
      "metadata": {
        "id": "Gfqhs4M16vo_"
      },
      "execution_count": 5,
      "outputs": []
    },
    {
      "cell_type": "code",
      "source": [
        "####### Método 2 para cargar el dataset directamente desde Google Drive #####\n",
        "\n",
        "path = '/content/drive/MyDrive/Numpy/manzanas.csv'\n",
        "\n",
        "datos = np.loadtxt(path,delimiter=',',usecols = np.arange(1,88,1))"
      ],
      "metadata": {
        "id": "jlCPoM2S7FxX",
        "outputId": "66d2a874-f21d-44fa-c572-c915232f0d0d",
        "colab": {
          "base_uri": "https://localhost:8080/",
          "height": 331
        }
      },
      "execution_count": 6,
      "outputs": [
        {
          "output_type": "error",
          "ename": "FileNotFoundError",
          "evalue": "/content/drive/MyDrive/Numpy/manzanas.csv not found.",
          "traceback": [
            "\u001b[0;31m---------------------------------------------------------------------------\u001b[0m",
            "\u001b[0;31mFileNotFoundError\u001b[0m                         Traceback (most recent call last)",
            "\u001b[0;32m/tmp/ipython-input-2742326868.py\u001b[0m in \u001b[0;36m<cell line: 0>\u001b[0;34m()\u001b[0m\n\u001b[1;32m      3\u001b[0m \u001b[0mpath\u001b[0m \u001b[0;34m=\u001b[0m \u001b[0;34m'/content/drive/MyDrive/Numpy/manzanas.csv'\u001b[0m\u001b[0;34m\u001b[0m\u001b[0;34m\u001b[0m\u001b[0m\n\u001b[1;32m      4\u001b[0m \u001b[0;34m\u001b[0m\u001b[0m\n\u001b[0;32m----> 5\u001b[0;31m \u001b[0mdatos\u001b[0m \u001b[0;34m=\u001b[0m \u001b[0mnp\u001b[0m\u001b[0;34m.\u001b[0m\u001b[0mloadtxt\u001b[0m\u001b[0;34m(\u001b[0m\u001b[0mpath\u001b[0m\u001b[0;34m,\u001b[0m\u001b[0mdelimiter\u001b[0m\u001b[0;34m=\u001b[0m\u001b[0;34m','\u001b[0m\u001b[0;34m,\u001b[0m\u001b[0musecols\u001b[0m \u001b[0;34m=\u001b[0m \u001b[0mnp\u001b[0m\u001b[0;34m.\u001b[0m\u001b[0marange\u001b[0m\u001b[0;34m(\u001b[0m\u001b[0;36m1\u001b[0m\u001b[0;34m,\u001b[0m\u001b[0;36m88\u001b[0m\u001b[0;34m,\u001b[0m\u001b[0;36m1\u001b[0m\u001b[0;34m)\u001b[0m\u001b[0;34m)\u001b[0m\u001b[0;34m\u001b[0m\u001b[0;34m\u001b[0m\u001b[0m\n\u001b[0m",
            "\u001b[0;32m/usr/local/lib/python3.11/dist-packages/numpy/lib/_npyio_impl.py\u001b[0m in \u001b[0;36mloadtxt\u001b[0;34m(fname, dtype, comments, delimiter, converters, skiprows, usecols, unpack, ndmin, encoding, max_rows, quotechar, like)\u001b[0m\n\u001b[1;32m   1379\u001b[0m         \u001b[0mdelimiter\u001b[0m \u001b[0;34m=\u001b[0m \u001b[0mdelimiter\u001b[0m\u001b[0;34m.\u001b[0m\u001b[0mdecode\u001b[0m\u001b[0;34m(\u001b[0m\u001b[0;34m'latin1'\u001b[0m\u001b[0;34m)\u001b[0m\u001b[0;34m\u001b[0m\u001b[0;34m\u001b[0m\u001b[0m\n\u001b[1;32m   1380\u001b[0m \u001b[0;34m\u001b[0m\u001b[0m\n\u001b[0;32m-> 1381\u001b[0;31m     arr = _read(fname, dtype=dtype, comment=comment, delimiter=delimiter,\n\u001b[0m\u001b[1;32m   1382\u001b[0m                 \u001b[0mconverters\u001b[0m\u001b[0;34m=\u001b[0m\u001b[0mconverters\u001b[0m\u001b[0;34m,\u001b[0m \u001b[0mskiplines\u001b[0m\u001b[0;34m=\u001b[0m\u001b[0mskiprows\u001b[0m\u001b[0;34m,\u001b[0m \u001b[0musecols\u001b[0m\u001b[0;34m=\u001b[0m\u001b[0musecols\u001b[0m\u001b[0;34m,\u001b[0m\u001b[0;34m\u001b[0m\u001b[0;34m\u001b[0m\u001b[0m\n\u001b[1;32m   1383\u001b[0m                 \u001b[0munpack\u001b[0m\u001b[0;34m=\u001b[0m\u001b[0munpack\u001b[0m\u001b[0;34m,\u001b[0m \u001b[0mndmin\u001b[0m\u001b[0;34m=\u001b[0m\u001b[0mndmin\u001b[0m\u001b[0;34m,\u001b[0m \u001b[0mencoding\u001b[0m\u001b[0;34m=\u001b[0m\u001b[0mencoding\u001b[0m\u001b[0;34m,\u001b[0m\u001b[0;34m\u001b[0m\u001b[0;34m\u001b[0m\u001b[0m\n",
            "\u001b[0;32m/usr/local/lib/python3.11/dist-packages/numpy/lib/_npyio_impl.py\u001b[0m in \u001b[0;36m_read\u001b[0;34m(fname, delimiter, comment, quote, imaginary_unit, usecols, skiplines, max_rows, converters, ndmin, unpack, dtype, encoding)\u001b[0m\n\u001b[1;32m    995\u001b[0m             \u001b[0mfname\u001b[0m \u001b[0;34m=\u001b[0m \u001b[0mos\u001b[0m\u001b[0;34m.\u001b[0m\u001b[0mfspath\u001b[0m\u001b[0;34m(\u001b[0m\u001b[0mfname\u001b[0m\u001b[0;34m)\u001b[0m\u001b[0;34m\u001b[0m\u001b[0;34m\u001b[0m\u001b[0m\n\u001b[1;32m    996\u001b[0m         \u001b[0;32mif\u001b[0m \u001b[0misinstance\u001b[0m\u001b[0;34m(\u001b[0m\u001b[0mfname\u001b[0m\u001b[0;34m,\u001b[0m \u001b[0mstr\u001b[0m\u001b[0;34m)\u001b[0m\u001b[0;34m:\u001b[0m\u001b[0;34m\u001b[0m\u001b[0;34m\u001b[0m\u001b[0m\n\u001b[0;32m--> 997\u001b[0;31m             \u001b[0mfh\u001b[0m \u001b[0;34m=\u001b[0m \u001b[0mnp\u001b[0m\u001b[0;34m.\u001b[0m\u001b[0mlib\u001b[0m\u001b[0;34m.\u001b[0m\u001b[0m_datasource\u001b[0m\u001b[0;34m.\u001b[0m\u001b[0mopen\u001b[0m\u001b[0;34m(\u001b[0m\u001b[0mfname\u001b[0m\u001b[0;34m,\u001b[0m \u001b[0;34m'rt'\u001b[0m\u001b[0;34m,\u001b[0m \u001b[0mencoding\u001b[0m\u001b[0;34m=\u001b[0m\u001b[0mencoding\u001b[0m\u001b[0;34m)\u001b[0m\u001b[0;34m\u001b[0m\u001b[0;34m\u001b[0m\u001b[0m\n\u001b[0m\u001b[1;32m    998\u001b[0m             \u001b[0;32mif\u001b[0m \u001b[0mencoding\u001b[0m \u001b[0;32mis\u001b[0m \u001b[0;32mNone\u001b[0m\u001b[0;34m:\u001b[0m\u001b[0;34m\u001b[0m\u001b[0;34m\u001b[0m\u001b[0m\n\u001b[1;32m    999\u001b[0m                 \u001b[0mencoding\u001b[0m \u001b[0;34m=\u001b[0m \u001b[0mgetattr\u001b[0m\u001b[0;34m(\u001b[0m\u001b[0mfh\u001b[0m\u001b[0;34m,\u001b[0m \u001b[0;34m'encoding'\u001b[0m\u001b[0;34m,\u001b[0m \u001b[0;34m'latin1'\u001b[0m\u001b[0;34m)\u001b[0m\u001b[0;34m\u001b[0m\u001b[0;34m\u001b[0m\u001b[0m\n",
            "\u001b[0;32m/usr/local/lib/python3.11/dist-packages/numpy/lib/_datasource.py\u001b[0m in \u001b[0;36mopen\u001b[0;34m(path, mode, destpath, encoding, newline)\u001b[0m\n\u001b[1;32m    190\u001b[0m \u001b[0;34m\u001b[0m\u001b[0m\n\u001b[1;32m    191\u001b[0m     \u001b[0mds\u001b[0m \u001b[0;34m=\u001b[0m \u001b[0mDataSource\u001b[0m\u001b[0;34m(\u001b[0m\u001b[0mdestpath\u001b[0m\u001b[0;34m)\u001b[0m\u001b[0;34m\u001b[0m\u001b[0;34m\u001b[0m\u001b[0m\n\u001b[0;32m--> 192\u001b[0;31m     \u001b[0;32mreturn\u001b[0m \u001b[0mds\u001b[0m\u001b[0;34m.\u001b[0m\u001b[0mopen\u001b[0m\u001b[0;34m(\u001b[0m\u001b[0mpath\u001b[0m\u001b[0;34m,\u001b[0m \u001b[0mmode\u001b[0m\u001b[0;34m,\u001b[0m \u001b[0mencoding\u001b[0m\u001b[0;34m=\u001b[0m\u001b[0mencoding\u001b[0m\u001b[0;34m,\u001b[0m \u001b[0mnewline\u001b[0m\u001b[0;34m=\u001b[0m\u001b[0mnewline\u001b[0m\u001b[0;34m)\u001b[0m\u001b[0;34m\u001b[0m\u001b[0;34m\u001b[0m\u001b[0m\n\u001b[0m\u001b[1;32m    193\u001b[0m \u001b[0;34m\u001b[0m\u001b[0m\n\u001b[1;32m    194\u001b[0m \u001b[0;34m\u001b[0m\u001b[0m\n",
            "\u001b[0;32m/usr/local/lib/python3.11/dist-packages/numpy/lib/_datasource.py\u001b[0m in \u001b[0;36mopen\u001b[0;34m(self, path, mode, encoding, newline)\u001b[0m\n\u001b[1;32m    530\u001b[0m                                       encoding=encoding, newline=newline)\n\u001b[1;32m    531\u001b[0m         \u001b[0;32melse\u001b[0m\u001b[0;34m:\u001b[0m\u001b[0;34m\u001b[0m\u001b[0;34m\u001b[0m\u001b[0m\n\u001b[0;32m--> 532\u001b[0;31m             \u001b[0;32mraise\u001b[0m \u001b[0mFileNotFoundError\u001b[0m\u001b[0;34m(\u001b[0m\u001b[0;34mf\"{path} not found.\"\u001b[0m\u001b[0;34m)\u001b[0m\u001b[0;34m\u001b[0m\u001b[0;34m\u001b[0m\u001b[0m\n\u001b[0m\u001b[1;32m    533\u001b[0m \u001b[0;34m\u001b[0m\u001b[0m\n\u001b[1;32m    534\u001b[0m \u001b[0;34m\u001b[0m\u001b[0m\n",
            "\u001b[0;31mFileNotFoundError\u001b[0m: /content/drive/MyDrive/Numpy/manzanas.csv not found."
          ]
        }
      ]
    },
    {
      "cell_type": "markdown",
      "source": [
        "## Métodos básicos para explorar *Arrays*"
      ],
      "metadata": {
        "id": "qQ68fbcFoXCC"
      }
    },
    {
      "cell_type": "code",
      "source": [
        "datos.ndim"
      ],
      "metadata": {
        "id": "vQPZY44vkzSp"
      },
      "execution_count": null,
      "outputs": []
    },
    {
      "cell_type": "code",
      "source": [
        "datos.shape"
      ],
      "metadata": {
        "id": "-R3C9H9FpXdh"
      },
      "execution_count": null,
      "outputs": []
    },
    {
      "cell_type": "code",
      "source": [
        "datos"
      ],
      "metadata": {
        "id": "d71U_vL-pd7w"
      },
      "execution_count": null,
      "outputs": []
    },
    {
      "cell_type": "code",
      "source": [
        "datos.T"
      ],
      "metadata": {
        "id": "QZaZxhMgpknZ"
      },
      "execution_count": null,
      "outputs": []
    },
    {
      "cell_type": "code",
      "source": [
        "datos_transpuestos = datos.T"
      ],
      "metadata": {
        "id": "GVD13YrJpwYp"
      },
      "execution_count": null,
      "outputs": []
    },
    {
      "cell_type": "markdown",
      "source": [
        "## Visualización y Selección"
      ],
      "metadata": {
        "id": "JqyWcTbnqhV5"
      }
    },
    {
      "cell_type": "code",
      "source": [
        "fechas = datos_transpuestos[:,0]\n",
        "fechas"
      ],
      "metadata": {
        "id": "3JQRk9rep7ox"
      },
      "execution_count": null,
      "outputs": []
    },
    {
      "cell_type": "code",
      "source": [
        "precios = datos_transpuestos[:,1:]\n",
        "precios"
      ],
      "metadata": {
        "id": "jhF-XQt4sW_a"
      },
      "execution_count": null,
      "outputs": []
    },
    {
      "cell_type": "code",
      "source": [
        "import matplotlib.pyplot as plt\n",
        "\n",
        "plt.plot(fechas,precios)"
      ],
      "metadata": {
        "id": "uYl-7nH-srsq"
      },
      "execution_count": null,
      "outputs": []
    },
    {
      "cell_type": "code",
      "source": [
        "plt.plot(fechas,precios[:,0])"
      ],
      "metadata": {
        "id": "8ggxfrMCtFGJ"
      },
      "execution_count": null,
      "outputs": []
    },
    {
      "cell_type": "code",
      "source": [
        "fechas = np.arange(1,88,1)"
      ],
      "metadata": {
        "id": "7xIVp_GDtjwT"
      },
      "execution_count": null,
      "outputs": []
    },
    {
      "cell_type": "code",
      "source": [
        "plt.plot(fechas,precios[:,0])"
      ],
      "metadata": {
        "id": "ToPTXolwt3ZT"
      },
      "execution_count": null,
      "outputs": []
    },
    {
      "cell_type": "code",
      "source": [
        "Moscu = precios[:,0]\n",
        "Kaliningrado = precios[:,1]\n",
        "Petersburgo = precios[:,2]\n",
        "Krasnodar = precios[:,3]\n",
        "Ekaterimburgo = precios[:,4]"
      ],
      "metadata": {
        "id": "FlEUn6Gut5TD"
      },
      "execution_count": null,
      "outputs": []
    },
    {
      "cell_type": "code",
      "source": [
        "plt.plot(fechas,Kaliningrado)"
      ],
      "metadata": {
        "id": "zIRn19aAuYea"
      },
      "execution_count": null,
      "outputs": []
    },
    {
      "cell_type": "markdown",
      "source": [
        "## Comparación entre *arrays*"
      ],
      "metadata": {
        "id": "vL2w_XY9vcIW"
      }
    },
    {
      "cell_type": "code",
      "source": [
        "Moscu.shape"
      ],
      "metadata": {
        "id": "LMnBuqTRxJG-"
      },
      "execution_count": null,
      "outputs": []
    },
    {
      "cell_type": "code",
      "source": [
        "moscu_1 = Moscu[0:12]\n",
        "moscu_2 = Moscu[12:24]\n",
        "moscu_3 = Moscu[24:36]\n",
        "moscu_4 = Moscu[36:48]"
      ],
      "metadata": {
        "id": "6jgMMDntxV1r"
      },
      "execution_count": null,
      "outputs": []
    },
    {
      "cell_type": "code",
      "source": [
        "plt.plot(np.arange(1,13,1),moscu_1)\n",
        "plt.plot(np.arange(1,13,1),moscu_2)\n",
        "plt.plot(np.arange(1,13,1),moscu_3)\n",
        "plt.plot(np.arange(1,13,1),moscu_4)\n",
        "plt.legend(['2013','2014','2015','2016'])"
      ],
      "metadata": {
        "id": "JCkQ8x4xxxY7"
      },
      "execution_count": null,
      "outputs": []
    },
    {
      "cell_type": "code",
      "source": [
        "np.array_equal(moscu_1,moscu_2)"
      ],
      "metadata": {
        "id": "kLxWSLJGyC1k"
      },
      "execution_count": null,
      "outputs": []
    },
    {
      "cell_type": "code",
      "source": [
        "np.allclose(moscu_1,moscu_2, 2)"
      ],
      "metadata": {
        "id": "eROhy6ocyuhT"
      },
      "execution_count": null,
      "outputs": []
    },
    {
      "cell_type": "markdown",
      "source": [
        "## Tratamiento de Nan"
      ],
      "metadata": {
        "id": "8adSmRQyzVgP"
      }
    },
    {
      "cell_type": "code",
      "source": [
        "np.mean(Moscu)"
      ],
      "metadata": {
        "id": "vU1C_T90y3z6"
      },
      "execution_count": null,
      "outputs": []
    },
    {
      "cell_type": "code",
      "source": [
        "np.mean(Kaliningrado)"
      ],
      "metadata": {
        "id": "UuRzjAQQ0gpL"
      },
      "execution_count": null,
      "outputs": []
    },
    {
      "cell_type": "code",
      "source": [
        "plt.plot(fechas, Kaliningrado)"
      ],
      "metadata": {
        "id": "HMtVqWSK0pC7"
      },
      "execution_count": null,
      "outputs": []
    },
    {
      "cell_type": "code",
      "source": [
        "Kaliningrado"
      ],
      "metadata": {
        "id": "9BYGndAC0ugL"
      },
      "execution_count": null,
      "outputs": []
    },
    {
      "cell_type": "code",
      "source": [
        "np.isnan(Kaliningrado)"
      ],
      "metadata": {
        "id": "fclGgyLt0yCj"
      },
      "execution_count": null,
      "outputs": []
    },
    {
      "cell_type": "code",
      "source": [
        "np.sum(np.isnan(Kaliningrado))"
      ],
      "metadata": {
        "id": "L-N-HaNf06nj"
      },
      "execution_count": null,
      "outputs": []
    },
    {
      "cell_type": "code",
      "source": [
        "Kaliningrado[4] = (Kaliningrado[3] + Kaliningrado[5])/2"
      ],
      "metadata": {
        "id": "jTJa2AYU1Dmz"
      },
      "execution_count": null,
      "outputs": []
    },
    {
      "cell_type": "code",
      "source": [
        "np.sum(np.isnan(Kaliningrado))"
      ],
      "metadata": {
        "id": "Fb7idNVX1W6j"
      },
      "execution_count": null,
      "outputs": []
    },
    {
      "cell_type": "code",
      "source": [
        "plt.plot(fechas, Kaliningrado)"
      ],
      "metadata": {
        "id": "WQHW8ayg1jwk"
      },
      "execution_count": null,
      "outputs": []
    },
    {
      "cell_type": "code",
      "source": [
        "np.mean(Kaliningrado)"
      ],
      "metadata": {
        "id": "EzCHPVm71oxT"
      },
      "execution_count": null,
      "outputs": []
    },
    {
      "cell_type": "markdown",
      "source": [
        "## Diferencia entre *arrays*"
      ],
      "metadata": {
        "id": "4RZ1QoNb2opb"
      }
    },
    {
      "cell_type": "code",
      "source": [
        "plt.plot(fechas,Moscu)"
      ],
      "metadata": {
        "id": "alujMWwl7-tW"
      },
      "execution_count": null,
      "outputs": []
    },
    {
      "cell_type": "markdown",
      "source": [
        "### **y = ax + b**"
      ],
      "metadata": {
        "id": "iC2eLocr8aGR"
      }
    },
    {
      "cell_type": "code",
      "source": [
        "x = fechas\n",
        "y = 1.5 * x + 78"
      ],
      "metadata": {
        "id": "f0MnYE9R8UGl"
      },
      "execution_count": null,
      "outputs": []
    },
    {
      "cell_type": "code",
      "source": [
        "y"
      ],
      "metadata": {
        "id": "v4Sn_WdX8uCF"
      },
      "execution_count": null,
      "outputs": []
    },
    {
      "cell_type": "code",
      "source": [
        "plt.plot(fechas,Moscu)\n",
        "plt.plot(x,y)"
      ],
      "metadata": {
        "id": "q_fDQshd80l9"
      },
      "execution_count": null,
      "outputs": []
    },
    {
      "cell_type": "code",
      "source": [
        "Moscu - y"
      ],
      "metadata": {
        "id": "L4fzJjLn8vFt"
      },
      "execution_count": null,
      "outputs": []
    },
    {
      "cell_type": "code",
      "source": [
        "np.sqrt(np.sum(np.power(Moscu - y,2)))"
      ],
      "metadata": {
        "id": "WUXfXqlI9tzv"
      },
      "execution_count": null,
      "outputs": []
    },
    {
      "cell_type": "code",
      "source": [
        "x = fechas\n",
        "y = 0.5 * x + 78"
      ],
      "metadata": {
        "id": "5hpou_5D8_B9"
      },
      "execution_count": null,
      "outputs": []
    },
    {
      "cell_type": "code",
      "source": [
        "plt.plot(fechas,Moscu)\n",
        "plt.plot(x,y)"
      ],
      "metadata": {
        "id": "ksGU5RRo9L_f"
      },
      "execution_count": null,
      "outputs": []
    },
    {
      "cell_type": "code",
      "source": [
        "Moscu - y"
      ],
      "metadata": {
        "id": "by6JyRn49N7t"
      },
      "execution_count": null,
      "outputs": []
    },
    {
      "cell_type": "code",
      "source": [
        "np.sum(np.power(Moscu - y,2))"
      ],
      "metadata": {
        "id": "VzPLhgOe9Wzl"
      },
      "execution_count": null,
      "outputs": []
    },
    {
      "cell_type": "code",
      "source": [
        "np.sqrt(np.sum(np.power(Moscu - y,2)))"
      ],
      "metadata": {
        "id": "W3_J-SYR9lTV"
      },
      "execution_count": null,
      "outputs": []
    },
    {
      "cell_type": "code",
      "source": [
        "np.linalg.norm(Moscu - y)"
      ],
      "metadata": {
        "id": "LzMSywE591X2"
      },
      "execution_count": null,
      "outputs": []
    },
    {
      "cell_type": "markdown",
      "source": [
        "## Multiplicación"
      ],
      "metadata": {
        "id": "nsn7ZzDZ_SNd"
      }
    },
    {
      "cell_type": "markdown",
      "source": [
        "$$\\alpha = pendiente$$\n",
        "$$\\beta = interseccion$$\n",
        "$$n = observaciones$$\n",
        "$$y = precio$$\n",
        "$$x = fecha$$\n",
        "\n",
        "\n",
        "La solución para la pendiente es:\n",
        "\n",
        "$$\\alpha = \\frac{n \\sum xy - \\sum x \\sum y}{n \\sum x^2 - (\\sum x)^2} $$\n",
        "\n",
        "Y para la intersección:\n",
        " $$\\beta = \\frac{\\sum y - \\alpha \\sum x}{n} $$\n",
        "\n",
        "Y obtenemos la ecuación de la recta:\n",
        "\n",
        "$$y = \\alpha x + \\beta $$"
      ],
      "metadata": {
        "id": "wHlLvTpIYvID"
      }
    },
    {
      "cell_type": "code",
      "source": [
        "n = np.size(Moscu)\n",
        "y = Moscu\n",
        "x = fechas"
      ],
      "metadata": {
        "id": "CHN2pi3Wxd76"
      },
      "execution_count": null,
      "outputs": []
    },
    {
      "cell_type": "markdown",
      "source": [
        "$$\\alpha = \\frac{n \\sum xy - \\sum x \\sum y}{n \\sum x^2 - (\\sum x)^2} $$"
      ],
      "metadata": {
        "id": "phox4VDgydpP"
      }
    },
    {
      "cell_type": "code",
      "source": [
        "a = (n*np.sum(x*y)-np.sum(x)*np.sum(y))/(n*np.sum(x**2) - np.sum(x)**2)"
      ],
      "metadata": {
        "id": "-rOZH4UYyeZu"
      },
      "execution_count": null,
      "outputs": []
    },
    {
      "cell_type": "markdown",
      "source": [
        " $$\\beta = \\frac{\\sum y - \\alpha \\sum x}{n} $$"
      ],
      "metadata": {
        "id": "KFmJe5LvzAJK"
      }
    },
    {
      "cell_type": "code",
      "source": [
        "b = np.mean(y)- a*np.mean(x)"
      ],
      "metadata": {
        "id": "rGesWAGczCZt"
      },
      "execution_count": null,
      "outputs": []
    },
    {
      "cell_type": "code",
      "source": [
        "print(f'La pendiente es: {a}\\nLa intersección es: {b}')"
      ],
      "metadata": {
        "id": "c3SU1ITazIPv"
      },
      "execution_count": null,
      "outputs": []
    },
    {
      "cell_type": "code",
      "source": [
        "y = a*x + b"
      ],
      "metadata": {
        "id": "4x8iP-OZzR0-"
      },
      "execution_count": null,
      "outputs": []
    },
    {
      "cell_type": "code",
      "source": [
        "y"
      ],
      "metadata": {
        "id": "WKioNh5PzWg-"
      },
      "execution_count": null,
      "outputs": []
    },
    {
      "cell_type": "code",
      "source": [
        "np.linalg.norm(Moscu - y)"
      ],
      "metadata": {
        "id": "k_DdoCvTzXiu"
      },
      "execution_count": null,
      "outputs": []
    },
    {
      "cell_type": "code",
      "source": [
        "plt.plot(fechas,Moscu)\n",
        "plt.plot(x,y)\n",
        "plt.plot(25,a*25+b,'*r')\n",
        "plt.plot(75,a*75+b,'*r')"
      ],
      "metadata": {
        "id": "ClrUxaPtzi5_"
      },
      "execution_count": null,
      "outputs": []
    },
    {
      "cell_type": "code",
      "source": [
        "a*25+b"
      ],
      "metadata": {
        "id": "MOqKPfE8zqQW"
      },
      "execution_count": null,
      "outputs": []
    },
    {
      "cell_type": "code",
      "source": [
        "a*75+b"
      ],
      "metadata": {
        "id": "d5VCVg8b1D4P"
      },
      "execution_count": null,
      "outputs": []
    },
    {
      "cell_type": "markdown",
      "source": [
        "## Valores Aleatorios"
      ],
      "metadata": {
        "id": "MJLnf2Uj3LuZ"
      }
    },
    {
      "cell_type": "code",
      "source": [
        "# Entero\n",
        "\n",
        "np.random.randint(40,100,100)"
      ],
      "metadata": {
        "id": "3rzEmBbo9Lj-"
      },
      "execution_count": null,
      "outputs": []
    },
    {
      "cell_type": "code",
      "source": [
        "# Decimal\n",
        "\n",
        "np.random.uniform(0.1,0.9,100)"
      ],
      "metadata": {
        "id": "npKpKxQm-3hn"
      },
      "execution_count": null,
      "outputs": []
    },
    {
      "cell_type": "code",
      "source": [
        "pendientes = np.random.uniform(0.1,0.9,100)\n",
        "pendientes"
      ],
      "metadata": {
        "id": "gdY3rKyt--nW"
      },
      "execution_count": null,
      "outputs": []
    },
    {
      "cell_type": "code",
      "source": [
        "for i in range(100):\n",
        "  print(np.linalg.norm(Moscu - (pendientes[i]*x + b)))"
      ],
      "metadata": {
        "id": "4Ira4HPM_Zme"
      },
      "execution_count": null,
      "outputs": []
    },
    {
      "cell_type": "code",
      "source": [
        "norma = np.array([])\n",
        "\n",
        "for i in range(100):\n",
        "  norma = np.append(norma, np.linalg.norm(Moscu - (pendientes[i]*x + b)))"
      ],
      "metadata": {
        "id": "nhRPcyPV_wpe"
      },
      "execution_count": null,
      "outputs": []
    },
    {
      "cell_type": "code",
      "source": [
        "norma"
      ],
      "metadata": {
        "id": "Iv79TEqAAHnP"
      },
      "execution_count": null,
      "outputs": []
    },
    {
      "cell_type": "code",
      "source": [
        "np.random.uniform(0.1,0.9,5)"
      ],
      "metadata": {
        "id": "CSDEueZQAIZH"
      },
      "execution_count": null,
      "outputs": []
    },
    {
      "cell_type": "code",
      "source": [
        "np.random.uniform(0.1,0.9,5)"
      ],
      "metadata": {
        "id": "pMHL8NKqAVp3"
      },
      "execution_count": null,
      "outputs": []
    },
    {
      "cell_type": "code",
      "source": [
        "np.random.uniform(0.1,0.9,5)"
      ],
      "metadata": {
        "id": "j_cKvNFCAYdH"
      },
      "execution_count": null,
      "outputs": []
    },
    {
      "cell_type": "code",
      "source": [
        "np.random.seed(99)\n",
        "np.random.uniform(0.1,0.9,5)"
      ],
      "metadata": {
        "id": "FE26IiXNpk6x"
      },
      "execution_count": null,
      "outputs": []
    },
    {
      "cell_type": "code",
      "source": [
        "np.random.seed(99)\n",
        "np.random.uniform(0.1,0.9,5)"
      ],
      "metadata": {
        "id": "ydYgv9UVp8Qx"
      },
      "execution_count": null,
      "outputs": []
    },
    {
      "cell_type": "code",
      "source": [
        "np.random.uniform(0.1,0.9,5)"
      ],
      "metadata": {
        "id": "oYmTGuQOqORI"
      },
      "execution_count": null,
      "outputs": []
    },
    {
      "cell_type": "code",
      "source": [
        "np.random.seed(99)\n",
        "\n",
        "norma = np.array([])\n",
        "\n",
        "for i in range(100):\n",
        "  norma = np.append(norma, np.linalg.norm(Moscu - (pendientes[i]*x + b)))"
      ],
      "metadata": {
        "id": "AHERJ2PIqTTB"
      },
      "execution_count": null,
      "outputs": []
    },
    {
      "cell_type": "code",
      "source": [
        "norma"
      ],
      "metadata": {
        "id": "El7U5LzHqngB"
      },
      "execution_count": null,
      "outputs": []
    },
    {
      "cell_type": "code",
      "source": [
        "np.random.seed(99)\n",
        "\n",
        "norma = np.array([])\n",
        "\n",
        "for i in range(100):\n",
        "  norma = np.append(norma, np.linalg.norm(Moscu - (pendientes[i]*x + b)))\n",
        "\n",
        "norma"
      ],
      "metadata": {
        "id": "YZ86dTN3qolg"
      },
      "execution_count": null,
      "outputs": []
    },
    {
      "cell_type": "markdown",
      "source": [
        "## Exportando el archivo generado"
      ],
      "metadata": {
        "id": "Ukr2e9seq98K"
      }
    },
    {
      "cell_type": "code",
      "source": [
        "pendientes"
      ],
      "metadata": {
        "id": "I8AyK06Xqsuo"
      },
      "execution_count": null,
      "outputs": []
    },
    {
      "cell_type": "code",
      "source": [
        "norma"
      ],
      "metadata": {
        "id": "RTRyO3NDsLlh"
      },
      "execution_count": null,
      "outputs": []
    },
    {
      "cell_type": "code",
      "source": [
        "datos = np.column_stack([norma,pendientes])\n",
        "datos"
      ],
      "metadata": {
        "id": "-tNF2Mq8sMhg"
      },
      "execution_count": null,
      "outputs": []
    },
    {
      "cell_type": "code",
      "source": [
        "datos.shape"
      ],
      "metadata": {
        "id": "Zp0MLubrsa06"
      },
      "execution_count": null,
      "outputs": []
    },
    {
      "cell_type": "code",
      "source": [
        "np.savetxt('/content/drive/MyDrive/Numpy/norma_y_pendientes.csv', datos, delimiter=',')"
      ],
      "metadata": {
        "id": "cw9BS6uCsegZ"
      },
      "execution_count": null,
      "outputs": []
    }
  ]
}